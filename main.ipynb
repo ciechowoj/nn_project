{
 "cells": [
  {
   "cell_type": "code",
   "execution_count": 7,
   "metadata": {
    "collapsed": false,
    "scrolled": true
   },
   "outputs": [
    {
     "name": "stdout",
     "output_type": "stream",
     "text": [
      "Populating the interactive namespace from numpy and matplotlib\n"
     ]
    },
    {
     "name": "stderr",
     "output_type": "stream",
     "text": [
      "Using gpu device 0: GeForce GT 740M\n"
     ]
    }
   ],
   "source": [
    "%pylab inline\n",
    "import theano\n",
    "import theano.tensor.signal.downsample\n",
    "from common.plotting import plot_mat\n",
    "\n",
    "from IPython.display import SVG\n",
    "def svgdotprint(g):\n",
    "    return SVG(theano.printing.pydotprint(g, return_image=True, format='svg'))"
   ]
  },
  {
   "cell_type": "code",
   "execution_count": 8,
   "metadata": {
    "collapsed": false
   },
   "outputs": [
    {
     "name": "stdout",
     "output_type": "stream",
     "text": [
      "The streams return batches containing ('features', 'targets')\n",
      "Each trainin batch consits of a tuple containing:\n",
      " - an array of size (100, 3, 32, 32) containing float32\n",
      " - an array of size (100, 1) containing uint8\n",
      "Validation/test batches consits of tuples containing:\n",
      " - an array of size (100, 3, 32, 32) containing float32\n",
      " - an array of size (100, 1) containing uint8\n"
     ]
    }
   ],
   "source": [
    "from prepare_cifar10 import *\n",
    "\n",
    "cifar = prepare_cifar10()\n",
    "\n",
    "cifar_train = cifar.train\n",
    "cifar_train_stream = cifar.train_stream\n",
    "                                               \n",
    "cifar_validation = cifar.validation\n",
    "cifar_validation_stream = cifar.validation_stream\n",
    "\n",
    "cifar_test = cifar.test\n",
    "cifar_test_stream = cifar.test_stream\n",
    "\n",
    "print(\"The streams return batches containing %s\" % (cifar_train_stream.sources,))\n",
    "\n",
    "print(\"Each trainin batch consits of a tuple containing:\")\n",
    "for element in next(cifar_train_stream.get_epoch_iterator()):\n",
    "    print(\" - an array of size %s containing %s\" % (element.shape, element.dtype))\n",
    "    \n",
    "print(\"Validation/test batches consits of tuples containing:\")\n",
    "for element in next(cifar_test_stream.get_epoch_iterator()):\n",
    "    print(\" - an array of size %s containing %s\" % (element.shape, element.dtype))"
   ]
  },
  {
   "cell_type": "code",
   "execution_count": 9,
   "metadata": {
    "collapsed": true
   },
   "outputs": [],
   "source": [
    "#\n",
    "# These are taken from https://github.com/mila-udem/blocks\n",
    "# \n",
    "\n",
    "class Constant():\n",
    "    \"\"\"Initialize parameters to a constant.\n",
    "    The constant may be a scalar or a :class:`~numpy.ndarray` of any shape\n",
    "    that is broadcastable with the requested parameter arrays.\n",
    "    Parameters\n",
    "    ----------\n",
    "    constant : :class:`~numpy.ndarray`\n",
    "        The initialization value to use. Must be a scalar or an ndarray (or\n",
    "        compatible object, such as a nested list) that has a shape that is\n",
    "        broadcastable with any shape requested by `initialize`.\n",
    "    \"\"\"\n",
    "    def __init__(self, constant):\n",
    "        self._constant = numpy.asarray(constant)\n",
    "\n",
    "    def generate(self, rng, shape):\n",
    "        dest = numpy.empty(shape, dtype=np.float32)\n",
    "        dest[...] = self._constant\n",
    "        return dest\n",
    "\n",
    "\n",
    "class IsotropicGaussian():\n",
    "    \"\"\"Initialize parameters from an isotropic Gaussian distribution.\n",
    "    Parameters\n",
    "    ----------\n",
    "    std : float, optional\n",
    "        The standard deviation of the Gaussian distribution. Defaults to 1.\n",
    "    mean : float, optional\n",
    "        The mean of the Gaussian distribution. Defaults to 0\n",
    "    Notes\n",
    "    -----\n",
    "    Be careful: the standard deviation goes first and the mean goes\n",
    "    second!\n",
    "    \"\"\"\n",
    "    def __init__(self, std=1, mean=0):\n",
    "        self._mean = mean\n",
    "        self._std = std\n",
    "\n",
    "    def generate(self, rng, shape):\n",
    "        m = rng.normal(self._mean, self._std, size=shape)\n",
    "        return m.astype(np.float32)\n",
    "\n",
    "\n",
    "class Uniform():\n",
    "    \"\"\"Initialize parameters from a uniform distribution.\n",
    "    Parameters\n",
    "    ----------\n",
    "    mean : float, optional\n",
    "        The mean of the uniform distribution (i.e. the center of mass for\n",
    "        the density function); Defaults to 0.\n",
    "    width : float, optional\n",
    "        One way of specifying the range of the uniform distribution. The\n",
    "        support will be [mean - width/2, mean + width/2]. **Exactly one**\n",
    "        of `width` or `std` must be specified.\n",
    "    std : float, optional\n",
    "        An alternative method of specifying the range of the uniform\n",
    "        distribution. Chooses the width of the uniform such that random\n",
    "        variates will have a desired standard deviation. **Exactly one** of\n",
    "        `width` or `std` must be specified.\n",
    "    \"\"\"\n",
    "    def __init__(self, mean=0., width=None, std=None):\n",
    "        if (width is not None) == (std is not None):\n",
    "            raise ValueError(\"must specify width or std, \"\n",
    "                             \"but not both\")\n",
    "        if std is not None:\n",
    "            # Variance of a uniform is 1/12 * width^2\n",
    "            self._width = numpy.sqrt(12) * std\n",
    "        else:\n",
    "            self._width = width\n",
    "        self._mean = mean\n",
    "\n",
    "    def generate(self, rng, shape):\n",
    "        w = self._width / 2\n",
    "        m = rng.uniform(self._mean - w, self._mean + w, size=shape)\n",
    "        return m.astype(np.float32)"
   ]
  },
  {
   "cell_type": "code",
   "execution_count": 134,
   "metadata": {
    "collapsed": false
   },
   "outputs": [],
   "source": [
    "X = theano.tensor.tensor4('X', dtype='float32') # (batch_size x num_channels x img_rows x img_columns)\n",
    "\n",
    "Y = theano.tensor.matrix('Y', dtype='uint8') # Y is 1D, it lists the targets for all examples\n",
    "\n",
    "# this list will hold all parameters of the network\n",
    "model_parameters = []\n",
    "\n",
    "\n",
    "\n",
    "#The first convolutional layer\n",
    "#The shape is: num_out_filters x num_in_filters x filter_height x filter_width\n",
    "num_filters_1 = 10 #we will apply that many convolution filters in the first layer\n",
    "CW1 = theano.shared(np.zeros((num_filters_1, 3, 5, 5), dtype = 'float32'),\n",
    "                   name='CW1')\n",
    "#please note - this is somewhat non-standard\n",
    "CW1.tag.initializer = IsotropicGaussian(0.05)\n",
    "\n",
    "CB1 = theano.shared(np.zeros((num_filters_1,), dtype='float32'),\n",
    "                    name='CB1')\n",
    "\n",
    "CB1.tag.initializer = Constant(0.0)\n",
    "model_parameters += [CW1, CB1]\n",
    "\n",
    "after_C1 = theano.tensor.maximum(\n",
    "    0.0,\n",
    "    theano.tensor.nnet.conv2d(X, CW1) + CB1.dimshuffle('x',0,'x','x')\n",
    "    )\n",
    "\n",
    "\n",
    "after_P1 = theano.tensor.signal.downsample.max_pool_2d(after_C1, (2,2), ignore_border=True)\n",
    "\n",
    "num_filters_2 = 25 #we will compute ten convolution filters in the first layer\n",
    "CW2 = theano.shared(np.zeros((num_filters_2,num_filters_1,5,5), dtype='float32'),\n",
    "                   name='CW2')\n",
    "\n",
    "CW2.tag.initializer = IsotropicGaussian(0.05)\n",
    "\n",
    "CB2 = theano.shared(np.zeros((num_filters_2,), dtype='float32'),\n",
    "                    name='CB2')\n",
    "\n",
    "CB2.tag.initializer = Constant(0.0)\n",
    "model_parameters += [CW2, CB2]\n",
    "\n",
    "after_C2 = theano.tensor.maximum(\n",
    "    0.0,\n",
    "    theano.tensor.nnet.conv2d(after_P1, CW2) + CB2.dimshuffle('x',0,'x','x')\n",
    "    )\n",
    "\n",
    "after_P2 = theano.tensor.signal.downsample.max_pool_2d(after_C2, (2,2), ignore_border=True)\n",
    "\n",
    "#Fully connected layers - we just flatten all filter maps\n",
    "num_fw3_hidden=500\n",
    "FW3 = theano.shared(np.zeros((num_filters_2 * 5 * 5, num_fw3_hidden), dtype='float32'),\n",
    "                   name='FW3')\n",
    "FW3.tag.initializer = IsotropicGaussian(0.05)\n",
    "\n",
    "FB3 = theano.shared(np.zeros((num_fw3_hidden,), dtype='float32'),\n",
    "                    name='FB3')\n",
    "FB3.tag.initializer = Constant(0.0)\n",
    "model_parameters += [FW3, FB3]\n",
    "\n",
    "after_F3 = theano.tensor.maximum(0.0, \n",
    "                                 theano.tensor.dot(after_P2.flatten(2), FW3) + FB3.dimshuffle('x',0))\n",
    "# print \"after_F3 shape: %s\" % (after_F3.tag.test_value.shape,)\n",
    "\n",
    "\n",
    "num_fw4_hidden=10\n",
    "FW4 = theano.shared(np.zeros((num_fw3_hidden, num_fw4_hidden), dtype='float32'),\n",
    "                   name='FW4')\n",
    "FW4.tag.initializer = IsotropicGaussian(0.05)\n",
    "\n",
    "FB4 = theano.shared(np.zeros((num_fw4_hidden,), dtype='float32'),\n",
    "                    name='FB4')\n",
    "FB4.tag.initializer = Constant(0.0)\n",
    "model_parameters += [FW4, FB4]\n",
    "\n",
    "after_F4 = theano.tensor.dot(after_F3, FW4) + FB4.dimshuffle('x',0)\n",
    "# print \"after_F4 shape: %s\" % (after_F4.tag.test_value.shape,)\n",
    "\n",
    "log_probs = theano.tensor.nnet.softmax(after_F4)\n",
    "\n",
    "predictions = theano.tensor.argmax(log_probs, axis=1)\n",
    "\n",
    "error_rate = theano.tensor.neq(predictions,Y.ravel()).mean()\n",
    "nll = - theano.tensor.log(log_probs[theano.tensor.arange(Y.shape[0]), Y.ravel()]).mean()\n",
    "\n",
    "weight_decay = 0.0\n",
    "for p in model_parameters:\n",
    "    if p.name[1]=='W':\n",
    "        weight_decay = weight_decay + 1e-3 * (p**2).sum()\n",
    "\n",
    "cost = nll + weight_decay\n"
   ]
  },
  {
   "cell_type": "code",
   "execution_count": 226,
   "metadata": {
    "collapsed": false
   },
   "outputs": [],
   "source": [
    "from utils import *\n",
    "\n",
    "def conv2D(num_in_filters, num_out_filters, kernel_size, name = None):\n",
    "    name = name if name else fresh_name(\"?\")\n",
    "        \n",
    "    weights_shape = (num_out_filters, num_in_filters, kernel_size, kernel_size)\n",
    "    weights_name = \"{}.weights\".format(name)\n",
    "    weights = theano.shared(np.zeros(weights_shape, dtype = 'float32'), name = weights_name)\n",
    "    weights.tag.initializer = IsotropicGaussian(0.05)\n",
    "    \n",
    "    biases_shape = (num_out_filters,)\n",
    "    biases_name = \"{}.biases\".format(name)\n",
    "    biases = theano.shared(np.zeros(biases_shape, dtype='float32'), biases_name)\n",
    "    biases.tag.initializer = Constant(0.0)\n",
    "    \n",
    "    def fprop(X):\n",
    "        return theano.tensor.nnet.conv2d(X, weights) + biases.dimshuffle('x', 0, 'x', 'x')\n",
    "    \n",
    "    fprop.params = [weights, biases]\n",
    "    \n",
    "    return fprop\n",
    "\n",
    "def relu(name = fresh_name(\"?\")):\n",
    "    def fprop(X):\n",
    "        return theano.tensor.maximum(0.0, X)\n",
    "    \n",
    "    return fprop\n",
    "    \n",
    "def max_pool_2d(kernel_size):\n",
    "    def fprop(X):\n",
    "        kernel_shape = (kernel_size, kernel_size)\n",
    "        return theano.tensor.signal.downsample.max_pool_2d(X, kernel_shape, ignore_border = True)\n",
    "\n",
    "    return fprop\n",
    "\n",
    "def flatten(num_inputs, num_outputs, name = None):\n",
    "    name = name if name else fresh_name(\"?\")\n",
    "        \n",
    "    weights_shape = (num_inputs, num_outputs)\n",
    "    weights_name = \"{}.weights\".format(name)\n",
    "    weights = theano.shared(np.zeros(weights_shape, dtype='float32'), name = weights_name)\n",
    "    weights.tag.initializer = IsotropicGaussian(0.05)\n",
    "    \n",
    "    biases_shape = (num_outputs, )\n",
    "    biases_name = \"{}.biases\".format(name)\n",
    "    biases = theano.shared(np.zeros(biases_shape, dtype='float32'), name = biases_name)\n",
    "    biases.tag.initializer = Constant(0.0)\n",
    "    \n",
    "    def fprop(X):\n",
    "        return theano.tensor.dot(X.flatten(2), weights) + biases.dimshuffle('x', 0)\n",
    "\n",
    "    fprop.params = [weights, biases]\n",
    "    \n",
    "    return fprop\n",
    "    \n",
    "def xaffine(num_inputs, num_outputs, name = None):    \n",
    "    name = name if name else fresh_name(\"?\")\n",
    "    \n",
    "    weights_shape = (num_inputs, num_outputs)\n",
    "    weights_name = \"{}.weights\".format(name)\n",
    "    weights = theano.shared(np.zeros(weights_shape, dtype='float32'), name = weights_name)\n",
    "    weights.tag.initializer = IsotropicGaussian(0.05)\n",
    "    \n",
    "    biases_shape = (num_outputs, )\n",
    "    biases_name = \"{}.biases\".format(name)\n",
    "    biases = theano.shared(np.zeros(biases_shape, dtype='float32'), name = biases_name)\n",
    "    biases.tag.initializer = Constant(0.0)\n",
    "    \n",
    "    def fprop(X):\n",
    "        return theano.tensor.dot(X, weights) + biases.dimshuffle('x', 0)\n",
    "\n",
    "    fprop.params = [weights, biases]\n",
    "    \n",
    "    return fprop\n",
    "    \n",
    "def softmax():\n",
    "    def fprop(X):\n",
    "        return theano.tensor.nnet.softmax(X)\n",
    "\n",
    "    return fprop\n",
    "    \n",
    "def compose(*args):\n",
    "    def fprop(X):\n",
    "        for arg in args:\n",
    "            X = arg(X)\n",
    "        return X\n",
    "    \n",
    "    params = []\n",
    "\n",
    "    for arg in args:\n",
    "        try:\n",
    "            params += arg.params\n",
    "        except AttributeError:\n",
    "            pass\n",
    "    \n",
    "    if params != []:\n",
    "        fprop.params = params\n",
    "    \n",
    "    return fprop\n",
    "\n"
   ]
  },
  {
   "cell_type": "code",
   "execution_count": 252,
   "metadata": {
    "collapsed": false
   },
   "outputs": [],
   "source": [
    "\n",
    "X = theano.tensor.tensor4('X', dtype='float32') # (batch_size x num_channels x img_rows x img_columns)\n",
    "\n",
    "Y = theano.tensor.matrix('Y', dtype='uint8') # Y is 1D, it lists the targets for all examples\n",
    "\n",
    "# this list will hold all parameters of the network\n",
    "model_parameters = []\n",
    "\n",
    "nn = compose(conv2D(3, 30, 5), \n",
    "             relu(), \n",
    "             max_pool_2d(2),\n",
    "             conv2D(30, 25, 5),\n",
    "             relu(),\n",
    "             max_pool_2d(2),\n",
    "             flatten(25 * 5 * 5, 200),\n",
    "             relu(),\n",
    "             xaffine(200, 10)\n",
    "            )\n",
    "\n",
    "model_parameters = nn.params\n",
    "\n",
    "after_F4 = nn(X)\n",
    "\n",
    "log_probs = theano.tensor.nnet.softmax(after_F4)\n",
    "\n",
    "predictions = theano.tensor.argmax(log_probs, axis=1)\n",
    "\n",
    "error_rate = theano.tensor.neq(predictions,Y.ravel()).mean()\n",
    "nll = - theano.tensor.log(log_probs[theano.tensor.arange(Y.shape[0]), Y.ravel()]).mean()\n",
    "\n",
    "weight_decay = 0.0\n",
    "for p in model_parameters:\n",
    "    if p.name.endswith('weights'):\n",
    "        weight_decay = weight_decay + 1e-3 * (p**2).sum()\n",
    "\n",
    "cost = nll + weight_decay"
   ]
  },
  {
   "cell_type": "code",
   "execution_count": 253,
   "metadata": {
    "collapsed": true
   },
   "outputs": [],
   "source": [
    "# The updates will update our shared values\n",
    "updates = []"
   ]
  },
  {
   "cell_type": "code",
   "execution_count": 254,
   "metadata": {
    "collapsed": false
   },
   "outputs": [],
   "source": [
    "lrate = theano.tensor.scalar('lrate',dtype='float32')\n",
    "momentum = theano.tensor.scalar('momentum',dtype='float32')\n",
    "\n",
    "# Theano will compute the gradients for us\n",
    "gradients = theano.grad(cost, model_parameters)\n",
    "\n",
    "#initialize storage for momentum\n",
    "velocities = [theano.shared(np.zeros_like(p.get_value()), name='V_%s' %(p.name, )) for p in model_parameters]\n",
    "\n",
    "for p,g,v in zip(model_parameters, gradients, velocities):\n",
    "    v_new = momentum * v - lrate * g\n",
    "    p_new = p + v_new\n",
    "    updates += [(v,v_new), (p, p_new)]\n"
   ]
  },
  {
   "cell_type": "code",
   "execution_count": 255,
   "metadata": {
    "collapsed": false
   },
   "outputs": [
    {
     "data": {
      "text/plain": [
       "[(V_?141.weights, Elemwise{sub,no_inplace}.0),\n",
       " (?141.weights, Elemwise{add,no_inplace}.0),\n",
       " (V_?141.biases, Elemwise{sub,no_inplace}.0),\n",
       " (?141.biases, Elemwise{add,no_inplace}.0),\n",
       " (V_?142.weights, Elemwise{sub,no_inplace}.0),\n",
       " (?142.weights, Elemwise{add,no_inplace}.0),\n",
       " (V_?142.biases, Elemwise{sub,no_inplace}.0),\n",
       " (?142.biases, Elemwise{add,no_inplace}.0),\n",
       " (V_?143.weights, Elemwise{sub,no_inplace}.0),\n",
       " (?143.weights, Elemwise{add,no_inplace}.0),\n",
       " (V_?143.biases, Elemwise{sub,no_inplace}.0),\n",
       " (?143.biases, Elemwise{add,no_inplace}.0),\n",
       " (V_?144.weights, Elemwise{sub,no_inplace}.0),\n",
       " (?144.weights, Elemwise{add,no_inplace}.0),\n",
       " (V_?144.biases, Elemwise{sub,no_inplace}.0),\n",
       " (?144.biases, Elemwise{add,no_inplace}.0)]"
      ]
     },
     "execution_count": 255,
     "metadata": {},
     "output_type": "execute_result"
    }
   ],
   "source": [
    "updates"
   ]
  },
  {
   "cell_type": "code",
   "execution_count": 256,
   "metadata": {
    "collapsed": false
   },
   "outputs": [],
   "source": [
    "#compile theano functions\n",
    "\n",
    "#each call to train step will make one SGD step\n",
    "train_step = theano.function([X,Y,lrate,momentum],[cost, error_rate, nll, weight_decay],updates=updates, allow_input_downcast=True)\n",
    "#each call to predict will return predictions on a batch of data\n",
    "predict = theano.function([X], predictions)"
   ]
  },
  {
   "cell_type": "code",
   "execution_count": null,
   "metadata": {
    "collapsed": true
   },
   "outputs": [],
   "source": [
    "def compile(network, learning_rate, momentum):    \n",
    "    X = theano.tensor.tensor4('X', dtype='float32')\n",
    "    Y = theano.tensor.matrix('Y', dtype='uint8')\n",
    "\n",
    "    model_params = network.params\n",
    "\n",
    "model_parameters = nn.params\n",
    "\n",
    "after_F4 = nn(X)\n",
    "\n",
    "log_probs = netwo\n",
    "\n",
    "predictions = theano.tensor.argmax(log_probs, axis=1)\n",
    "\n",
    "error_rate = theano.tensor.neq(predictions,Y.ravel()).mean()\n",
    "nll = - theano.tensor.log(log_probs[theano.tensor.arange(Y.shape[0]), Y.ravel()]).mean()\n",
    "\n",
    "weight_decay = 0.0\n",
    "for p in model_parameters:\n",
    "    if p.name.endswith('weights'):\n",
    "        weight_decay = weight_decay + 1e-3 * (p**2).sum()\n",
    "\n",
    "cost = nll + weight_decay\n",
    "    \n",
    "    "
   ]
  },
  {
   "cell_type": "code",
   "execution_count": 257,
   "metadata": {
    "collapsed": true
   },
   "outputs": [],
   "source": [
    "def compute_error_rate(stream):\n",
    "    errs = 0.0\n",
    "    num_samples = 0.0\n",
    "    for X, Y in stream.get_epoch_iterator():\n",
    "        errs += (predict(X)!=Y.ravel()).sum()\n",
    "        num_samples += Y.shape[0]\n",
    "    return errs/num_samples\n"
   ]
  },
  {
   "cell_type": "code",
   "execution_count": 258,
   "metadata": {
    "collapsed": true
   },
   "outputs": [],
   "source": [
    "#utilities to save values of parameters and to load them\n",
    "\n",
    "def init_parameters():\n",
    "    rng = np.random.RandomState(1234)\n",
    "    for p in model_parameters:\n",
    "        p.set_value(p.tag.initializer.generate(rng, p.get_value().shape))\n",
    "\n",
    "def snapshot_parameters():\n",
    "    return [p.get_value(borrow=False) for p in model_parameters]\n",
    "\n",
    "def load_parameters(snapshot):\n",
    "    for p, s in zip(model_parameters, snapshot):\n",
    "        p.set_value(s, borrow=False)"
   ]
  },
  {
   "cell_type": "code",
   "execution_count": 259,
   "metadata": {
    "collapsed": false
   },
   "outputs": [],
   "source": [
    "# init training\n",
    "\n",
    "i=0\n",
    "e=0\n",
    "\n",
    "init_parameters()\n",
    "for v in velocities:\n",
    "    v.set_value(np.zeros_like(v.get_value()))\n",
    "\n",
    "best_valid_error_rate = np.inf\n",
    "best_params = snapshot_parameters()\n",
    "best_params_epoch = 0\n",
    "\n",
    "train_erros = []\n",
    "train_loss = []\n",
    "train_nll = []\n",
    "validation_errors = []\n",
    "\n",
    "number_of_epochs = 3\n",
    "patience_expansion = 1.5"
   ]
  },
  {
   "cell_type": "code",
   "execution_count": null,
   "metadata": {
    "collapsed": false,
    "scrolled": false
   },
   "outputs": [
    {
     "name": "stdout",
     "output_type": "stream",
     "text": [
      "At minibatch 100, batch loss 2.385125, batch nll 2.019164, batch error rate 78.000000%\n",
      "At minibatch 200, batch loss 2.111337, batch nll 1.748627, batch error rate 70.000000%\n",
      "At minibatch 300, batch loss 1.929005, batch nll 1.569374, batch error rate 55.000000%\n",
      "At minibatch 400, batch loss 1.891762, batch nll 1.535017, batch error rate 52.000000%\n",
      "After epoch 1: valid_err_rate: 55.990000% currently going to do 3 epochs\n",
      "After epoch 1: averaged train_err_rate: 67.207500% averaged train nll: 1.856404 averaged train loss: 2.219271\n",
      "At minibatch 500, batch loss 2.010554, batch nll 1.657150, batch error rate 56.000000%\n",
      "At minibatch 600, batch loss 1.940486, batch nll 1.590555, batch error rate 57.000000%\n",
      "At minibatch 700, batch loss 1.785677, batch nll 1.439448, batch error rate 54.000000%\n",
      "At minibatch 800, batch loss 1.724261, batch nll 1.381467, batch error rate 48.000000%\n",
      "After epoch 2: valid_err_rate: 49.300000% currently going to do 4 epochs\n",
      "After epoch 2: averaged train_err_rate: 52.495000% averaged train nll: 1.455646 averaged train loss: 1.805482\n",
      "At minibatch 900, batch loss 1.632166, batch nll 1.292166, batch error rate 51.000000%\n",
      "At minibatch 1000, batch loss 1.504359, batch nll 1.167648, batch error rate 39.000000%\n",
      "At minibatch 1100, batch loss 1.608770, batch nll 1.275301, batch error rate 45.000000%\n",
      "At minibatch 1200, batch loss 1.684636, batch nll 1.354270, batch error rate 44.000000%\n",
      "After epoch 3: valid_err_rate: 45.930000% currently going to do 5 epochs\n",
      "After epoch 3: averaged train_err_rate: 47.060000% averaged train nll: 1.318242 averaged train loss: 1.654928\n",
      "At minibatch 1300, batch loss 1.595669, batch nll 1.267868, batch error rate 46.000000%\n",
      "At minibatch 1400, batch loss 1.628881, batch nll 1.303958, batch error rate 49.000000%\n",
      "At minibatch 1500, batch loss 1.372309, batch nll 1.049801, batch error rate 38.000000%\n",
      "At minibatch 1600, batch loss 1.500800, batch nll 1.181105, batch error rate 39.000000%\n",
      "After epoch 4: valid_err_rate: 41.930000% currently going to do 7 epochs\n",
      "After epoch 4: averaged train_err_rate: 43.177500% averaged train nll: 1.218673 averaged train loss: 1.543758\n",
      "At minibatch 1700, batch loss 1.401600, batch nll 1.084144, batch error rate 37.000000%\n",
      "At minibatch 1800, batch loss 1.426364, batch nll 1.111216, batch error rate 35.000000%\n",
      "At minibatch 1900, batch loss 1.236073, batch nll 0.923255, batch error rate 37.000000%\n",
      "At minibatch 2000, batch loss 1.472811, batch nll 1.162427, batch error rate 39.000000%\n",
      "After epoch 5: valid_err_rate: 39.590000% currently going to do 8 epochs\n",
      "After epoch 5: averaged train_err_rate: 39.842500% averaged train nll: 1.126781 averaged train loss: 1.441907\n",
      "At minibatch 2100, batch loss 1.299000, batch nll 0.990796, batch error rate 39.000000%\n",
      "At minibatch 2200, batch loss 1.466498, batch nll 1.160643, batch error rate 41.000000%\n",
      "At minibatch 2300, batch loss 1.269427, batch nll 0.965428, batch error rate 31.000000%\n",
      "At minibatch 2400, batch loss 1.273901, batch nll 0.971728, batch error rate 37.000000%\n",
      "After epoch 6: valid_err_rate: 36.960000% currently going to do 10 epochs\n",
      "After epoch 6: averaged train_err_rate: 37.302500% averaged train nll: 1.055119 averaged train loss: 1.361158\n",
      "At minibatch 2500, batch loss 1.210666, batch nll 0.910132, batch error rate 34.000000%\n",
      "At minibatch 2600, batch loss 1.276332, batch nll 0.977607, batch error rate 38.000000%\n",
      "At minibatch 2700, batch loss 1.218977, batch nll 0.921945, batch error rate 30.000000%\n",
      "At minibatch 2800, batch loss 1.196918, batch nll 0.901376, batch error rate 32.000000%\n",
      "After epoch 7: valid_err_rate: 36.410000% currently going to do 11 epochs\n",
      "After epoch 7: averaged train_err_rate: 34.890000% averaged train nll: 1.000379 averaged train loss: 1.299181\n",
      "At minibatch 2900, batch loss 1.068603, batch nll 0.774184, batch error rate 29.000000%\n",
      "At minibatch 3000, batch loss 1.116206, batch nll 0.823283, batch error rate 28.000000%\n",
      "At minibatch 3100, batch loss 1.132981, batch nll 0.841114, batch error rate 25.000000%\n",
      "At minibatch 3200, batch loss 1.254224, batch nll 0.963895, batch error rate 36.000000%\n",
      "After epoch 8: valid_err_rate: 34.860000% currently going to do 13 epochs\n",
      "After epoch 8: averaged train_err_rate: 33.185000% averaged train nll: 0.948540 averaged train loss: 1.241539\n",
      "At minibatch 3300, batch loss 1.155000, batch nll 0.865607, batch error rate 28.000000%\n",
      "At minibatch 3400, batch loss 1.227787, batch nll 0.939403, batch error rate 32.000000%\n",
      "At minibatch 3500, batch loss 1.091256, batch nll 0.804033, batch error rate 24.000000%\n",
      "At minibatch 3600, batch loss 1.127371, batch nll 0.841275, batch error rate 25.000000%\n",
      "After epoch 9: valid_err_rate: 34.830000% currently going to do 14 epochs\n",
      "After epoch 9: averaged train_err_rate: 31.682500% averaged train nll: 0.907994 averaged train loss: 1.196271\n",
      "At minibatch 3700, batch loss 1.166717, batch nll 0.881434, batch error rate 37.000000%\n",
      "At minibatch 3800, batch loss 1.125044, batch nll 0.840508, batch error rate 36.000000%\n",
      "At minibatch 3900, batch loss 1.139607, batch nll 0.855953, batch error rate 24.000000%\n",
      "At minibatch 4000, batch loss 1.131168, batch nll 0.848436, batch error rate 30.000000%\n",
      "After epoch 10: valid_err_rate: 33.420000% currently going to do 16 epochs\n",
      "After epoch 10: averaged train_err_rate: 30.522500% averaged train nll: 0.880966 averaged train loss: 1.165438\n",
      "At minibatch 4100, batch loss 1.066710, batch nll 0.784639, batch error rate 31.000000%\n",
      "At minibatch 4200, batch loss 1.108152, batch nll 0.826832, batch error rate 29.000000%\n",
      "At minibatch 4300, batch loss 1.349521, batch nll 1.068960, batch error rate 37.000000%\n",
      "At minibatch 4400, batch loss 1.080820, batch nll 0.801038, batch error rate 25.000000%\n",
      "After epoch 11: valid_err_rate: 33.640000% currently going to do 16 epochs\n",
      "After epoch 11: averaged train_err_rate: 29.505000% averaged train nll: 0.847047 averaged train loss: 1.128325\n",
      "At minibatch 4500, batch loss 1.089842, batch nll 0.810665, batch error rate 28.000000%\n",
      "At minibatch 4600, batch loss 0.990965, batch nll 0.712342, batch error rate 26.000000%\n",
      "At minibatch 4700, batch loss 1.108261, batch nll 0.830153, batch error rate 25.000000%\n",
      "At minibatch 4800, batch loss 1.143795, batch nll 0.866484, batch error rate 33.000000%\n",
      "After epoch 12: valid_err_rate: 32.570000% currently going to do 19 epochs\n",
      "After epoch 12: averaged train_err_rate: 28.575000% averaged train nll: 0.825392 averaged train loss: 1.104015\n",
      "At minibatch 4900, batch loss 0.930788, batch nll 0.653903, batch error rate 25.000000%\n",
      "At minibatch 5000, batch loss 0.998544, batch nll 0.722101, batch error rate 27.000000%\n",
      "At minibatch 5100, batch loss 1.139214, batch nll 0.863352, batch error rate 29.000000%\n",
      "At minibatch 5200, batch loss 1.009145, batch nll 0.733799, batch error rate 25.000000%\n",
      "After epoch 13: valid_err_rate: 32.800000% currently going to do 19 epochs\n",
      "After epoch 13: averaged train_err_rate: 27.570000% averaged train nll: 0.800149 averaged train loss: 1.076558\n",
      "At minibatch 5300, batch loss 1.195934, batch nll 0.920965, batch error rate 36.000000%\n",
      "At minibatch 5400, batch loss 0.969079, batch nll 0.694508, batch error rate 25.000000%\n",
      "At minibatch 5500, batch loss 1.038424, batch nll 0.764432, batch error rate 28.000000%\n",
      "At minibatch 5600, batch loss 0.980554, batch nll 0.706994, batch error rate 27.000000%\n",
      "After epoch 14: valid_err_rate: 32.160000% currently going to do 22 epochs"
     ]
    }
   ],
   "source": [
    "# training loop\n",
    "\n",
    "while e < number_of_epochs: #This loop goes over epochs\n",
    "    e += 1\n",
    "    #First train on all data from this batch\n",
    "    \n",
    "    epoch_start_i = i\n",
    "    \n",
    "    for X_batch, Y_batch in cifar_train_stream.get_epoch_iterator(): \n",
    "        i += 1\n",
    "        \n",
    "        K = 2000\n",
    "        lrate = 4e-3 * K / np.maximum(K, i)\n",
    "        momentum=0.9\n",
    "        \n",
    "        L, err_rate, nll, wdec = train_step(X_batch, Y_batch, lrate, momentum)\n",
    "        \n",
    "        #print [p.get_value().ravel()[:10] for p in model_parameters]\n",
    "        #print [p.get_value().ravel()[:10] for p in velocities]\n",
    "        \n",
    "        \n",
    "        train_loss.append((i,L))\n",
    "        train_erros.append((i,err_rate))\n",
    "        train_nll.append((i,nll))\n",
    "        if i % 100 == 0:\n",
    "            print(\"At minibatch %d, batch loss %f, batch nll %f, batch error rate %f%%\" % (i, L, nll, err_rate*100))\n",
    "        \n",
    "    # After an epoch compute validation error\n",
    "    val_error_rate = compute_error_rate(cifar_validation_stream)\n",
    "    if val_error_rate < best_valid_error_rate:\n",
    "        number_of_epochs = np.maximum(number_of_epochs, e * patience_expansion+1)\n",
    "        best_valid_error_rate = val_error_rate\n",
    "        best_params = snapshot_parameters()\n",
    "        best_params_epoch = e\n",
    "    validation_errors.append((i,val_error_rate))\n",
    "    print(\"After epoch %d: valid_err_rate: %f%% currently going to do %d epochs\" %(\n",
    "        e, val_error_rate*100, number_of_epochs))\n",
    "    print(\"After epoch %d: averaged train_err_rate: %f%% averaged train nll: %f averaged train loss: %f\" %(\n",
    "        e, np.mean(np.asarray(train_erros)[epoch_start_i:,1])*100, \n",
    "        np.mean(np.asarray(train_nll)[epoch_start_i:,1]),\n",
    "        np.mean(np.asarray(train_loss)[epoch_start_i:,1])))\n"
   ]
  },
  {
   "cell_type": "code",
   "execution_count": 250,
   "metadata": {
    "collapsed": false
   },
   "outputs": [
    {
     "name": "stdout",
     "output_type": "stream",
     "text": [
      "Setting network parameters from after epoch 29\n",
      "Test error rate is 32.060000%\n"
     ]
    },
    {
     "data": {
      "text/plain": [
       "<matplotlib.legend.Legend at 0x7f1d5b477860>"
      ]
     },
     "execution_count": 250,
     "metadata": {},
     "output_type": "execute_result"
    },
    {
     "data": {
      "image/png": "[encoded data removed]",
      "text/plain": [
       "<matplotlib.figure.Figure at 0x7f1d78080710>"
      ]
     },
     "metadata": {},
     "output_type": "display_data"
    }
   ],
   "source": [
    "print(\"Setting network parameters from after epoch %d\" %(best_params_epoch))\n",
    "load_parameters(best_params)\n",
    "\n",
    "print(\"Test error rate is %f%%\" %(compute_error_rate(cifar_test_stream)*100.0,))\n",
    "\n",
    "subplot(2,1,1)\n",
    "train_nll_a = np.array(train_nll)\n",
    "semilogy(train_nll_a[:,0], train_nll_a[:,1], label='batch train nll')\n",
    "legend()\n",
    "\n",
    "subplot(2,1,2)\n",
    "train_erros_a = np.array(train_erros)\n",
    "plot(train_erros_a[:,0], train_erros_a[:,1], label='batch train error rate')\n",
    "validation_errors_a = np.array(validation_errors)\n",
    "plot(validation_errors_a[:,0], validation_errors_a[:,1], label='validation error rate', color='r')\n",
    "ylim(0,0.2)\n",
    "legend()"
   ]
  },
  {
   "cell_type": "code",
   "execution_count": null,
   "metadata": {
    "collapsed": false
   },
   "outputs": [],
   "source": [
    "#How do the filters in the first layer look like?\n",
    "\n",
    "plot_mat(CW1.get_value(), cmap='gray')"
   ]
  },
  {
   "cell_type": "code",
   "execution_count": null,
   "metadata": {
    "collapsed": false
   },
   "outputs": [],
   "source": [
    "iii = predict.maker.inputs[0]\n",
    "X = iii.variable"
   ]
  },
  {
   "cell_type": "code",
   "execution_count": null,
   "metadata": {
    "collapsed": false
   },
   "outputs": [],
   "source": [
    "# build a function that shows how the network processes an image\n",
    "\n",
    "middle_layers_computer = theano.function([X], [\n",
    "        X,\n",
    "        after_C1,\n",
    "        after_P1,\n",
    "        after_C2,\n",
    "        after_P2\n",
    "        ])\n"
   ]
  },
  {
   "cell_type": "code",
   "execution_count": null,
   "metadata": {
    "collapsed": false
   },
   "outputs": [],
   "source": [
    "img_num=4\n",
    "\n",
    "middle_layers = middle_layers_computer(X_test_value[img_num:img_num+1])\n",
    "\n",
    "for ml, name in zip(middle_layers, ['X', 'C1', 'P1', 'C2', 'P2']):\n",
    "    plot_mat(ml.transpose(1,0,2,3), cmap='gray')\n",
    "    title(name)\n",
    "    show()"
   ]
  },
  {
   "cell_type": "code",
   "execution_count": null,
   "metadata": {
    "collapsed": true
   },
   "outputs": [],
   "source": []
  }
 ],
 "metadata": {
  "kernelspec": {
   "display_name": "Python 3",
   "language": "python",
   "name": "python3"
  },
  "language_info": {
   "codemirror_mode": {
    "name": "ipython",
    "version": 3
   },
   "file_extension": ".py",
   "mimetype": "text/x-python",
   "name": "python",
   "nbconvert_exporter": "python",
   "pygments_lexer": "ipython3",
   "version": "3.4.3"
  }
 },
 "nbformat": 4,
 "nbformat_minor": 0
}
