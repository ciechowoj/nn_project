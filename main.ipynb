{
 "cells": [
  {
   "cell_type": "code",
   "execution_count": 2,
   "metadata": {
    "collapsed": false,
    "scrolled": true
   },
   "outputs": [
    {
     "name": "stdout",
     "output_type": "stream",
     "text": [
      "Populating the interactive namespace from numpy and matplotlib\n"
     ]
    },
    {
     "name": "stderr",
     "output_type": "stream",
     "text": [
      "Using gpu device 0: GeForce GT 740M\n"
     ]
    }
   ],
   "source": [
    "%pylab inline\n",
    "import theano\n",
    "import theano.tensor.signal.downsample\n",
    "from common.plotting import plot_mat\n",
    "from utils import *\n",
    "import time\n",
    "\n",
    "from IPython.display import SVG\n",
    "def svgdotprint(g):\n",
    "    return SVG(theano.printing.pydotprint(g, return_image=True, format='svg'))"
   ]
  },
  {
   "cell_type": "code",
   "execution_count": 3,
   "metadata": {
    "collapsed": false
   },
   "outputs": [
    {
     "name": "stdout",
     "output_type": "stream",
     "text": [
      "The streams return batches containing ('features', 'targets')\n",
      "Each trainin batch consits of a tuple containing:\n",
      " - an array of size (100, 3, 32, 32) containing float32\n",
      " - an array of size (100, 1) containing uint8\n",
      "Validation/test batches consits of tuples containing:\n",
      " - an array of size (100, 3, 32, 32) containing float32\n",
      " - an array of size (100, 1) containing uint8\n"
     ]
    }
   ],
   "source": [
    "from prepare_cifar10 import *\n",
    "\n",
    "cifar = prepare_cifar10()\n",
    "\n",
    "cifar_train = cifar.train\n",
    "cifar_train_stream = cifar.train_stream\n",
    "                                               \n",
    "cifar_validation = cifar.validation\n",
    "cifar_validation_stream = cifar.validation_stream\n",
    "\n",
    "cifar_test = cifar.test\n",
    "cifar_test_stream = cifar.test_stream\n",
    "\n",
    "print(\"The streams return batches containing %s\" % (cifar_train_stream.sources,))\n",
    "\n",
    "print(\"Each trainin batch consits of a tuple containing:\")\n",
    "for element in next(cifar_train_stream.get_epoch_iterator()):\n",
    "    print(\" - an array of size %s containing %s\" % (element.shape, element.dtype))\n",
    "    \n",
    "print(\"Validation/test batches consits of tuples containing:\")\n",
    "for element in next(cifar_test_stream.get_epoch_iterator()):\n",
    "    print(\" - an array of size %s containing %s\" % (element.shape, element.dtype))"
   ]
  },
  {
   "cell_type": "code",
   "execution_count": 78,
   "metadata": {
    "collapsed": false
   },
   "outputs": [],
   "source": [
    "from utils import *\n",
    "\n",
    "def conv2D(num_in_filters, num_out_filters, kernel_size, name = None):\n",
    "    name = name if name else fresh_name(\"?\")\n",
    "        \n",
    "    weights_shape = (num_out_filters, num_in_filters, kernel_size, kernel_size)\n",
    "    weights_name = \"{}.weights\".format(name)\n",
    "    weights = theano.shared(np.zeros(weights_shape, dtype = 'float32'), name = weights_name)\n",
    "    weights.tag.initializer = IsotropicGaussian(0.05)\n",
    "    \n",
    "    biases_shape = (num_out_filters,)\n",
    "    biases_name = \"{}.biases\".format(name)\n",
    "    biases = theano.shared(np.zeros(biases_shape, dtype='float32'), biases_name)\n",
    "    biases.tag.initializer = Constant(0.0)\n",
    "    \n",
    "    def fprop(X):\n",
    "        return theano.tensor.nnet.conv2d(X, weights) + biases.dimshuffle('x', 0, 'x', 'x')\n",
    "    \n",
    "    fprop.params = [weights, biases]\n",
    "    \n",
    "    return fprop\n",
    "\n",
    "def relu(name = fresh_name(\"?\")):\n",
    "    def fprop(X):\n",
    "        return theano.tensor.maximum(0.0, X)\n",
    "    \n",
    "    return fprop\n",
    "    \n",
    "def max_pool_2d(kernel_size):\n",
    "    def fprop(X):\n",
    "        kernel_shape = (kernel_size, kernel_size)\n",
    "        return theano.tensor.signal.downsample.max_pool_2d(X, kernel_shape, ignore_border = True)\n",
    "\n",
    "    return fprop\n",
    "\n",
    "def flatten(name = None):\n",
    "    def fprop(X):\n",
    "        return X.flatten(2)\n",
    "\n",
    "    return fprop\n",
    "    \n",
    "def xaffine(num_inputs, num_outputs, name = None):    \n",
    "    name = name if name else fresh_name(\"?\")\n",
    "    \n",
    "    weights_shape = (num_inputs, num_outputs)\n",
    "    weights_name = \"{}.weights\".format(name)\n",
    "    weights = theano.shared(np.zeros(weights_shape, dtype='float32'), name = weights_name)\n",
    "    weights.tag.initializer = IsotropicGaussian(0.05)\n",
    "    \n",
    "    biases_shape = (num_outputs, )\n",
    "    biases_name = \"{}.biases\".format(name)\n",
    "    biases = theano.shared(np.zeros(biases_shape, dtype='float32'), name = biases_name)\n",
    "    biases.tag.initializer = Constant(0.0)\n",
    "    \n",
    "    def fprop(X):\n",
    "        return theano.tensor.dot(X, weights) + biases.dimshuffle('x', 0)\n",
    "\n",
    "    fprop.params = [weights, biases]\n",
    "    \n",
    "    return fprop\n",
    "    \n",
    "def maxout(num_inputs, num_outputs, degree, name = None):\n",
    "    name = name if name else fresh_name(\"?\")\n",
    "    \n",
    "    weights_shape = (num_outputs, num_inputs, degree)\n",
    "    weights_name = \"{}.weights\".format(name)\n",
    "    weights = theano.shared(np.zeros(weights_shape, dtype='float32'), name = weights_name)\n",
    "    weights.tag.initializer = IsotropicGaussian(0.05)\n",
    "    \n",
    "    biases_shape = (num_outputs, degree)\n",
    "    biases_name = \"{}.biases\".format(name)\n",
    "    biases = theano.shared(np.zeros(biases_shape, dtype='float32'), name = biases_name)\n",
    "    biases.tag.initializer = Constant(0.0)\n",
    "    \n",
    "    def fprop(X):\n",
    "        return theano.tensor.max(theano.tensor.dot(X, weights) + biases.dimshuffle('x', 0, 1), axis = 2)\n",
    "    \n",
    "    fprop.params = [weights, biases]\n",
    "    \n",
    "    return fprop\n",
    "    \n",
    "def softmax():\n",
    "    def fprop(X):\n",
    "        return theano.tensor.nnet.softmax(X)\n",
    "\n",
    "    return fprop\n",
    "    \n",
    "def compose(*args):\n",
    "    def fprop(X):\n",
    "        for arg in args:\n",
    "            X = arg(X)\n",
    "        return X\n",
    "    \n",
    "    params = []\n",
    "\n",
    "    for arg in args:\n",
    "        try:\n",
    "            params += arg.params\n",
    "        except AttributeError:\n",
    "            pass\n",
    "    \n",
    "    if params != []:\n",
    "        fprop.params = params\n",
    "    \n",
    "    return fprop\n"
   ]
  },
  {
   "cell_type": "code",
   "execution_count": 79,
   "metadata": {
    "collapsed": false
   },
   "outputs": [],
   "source": [
    "def compile(template):\n",
    "    X = theano.tensor.tensor4('X', dtype = 'float32')\n",
    "    Y = theano.tensor.matrix('Y', dtype = 'uint8')\n",
    "    \n",
    "    model_parameters = template.params\n",
    "\n",
    "    log_probs = template(X)\n",
    "\n",
    "    predictions = theano.tensor.argmax(log_probs, axis = 1)\n",
    "\n",
    "    error_rate = theano.tensor.neq(predictions,Y.ravel()).mean()\n",
    "    nll = - theano.tensor.log(log_probs[theano.tensor.arange(Y.shape[0]), Y.ravel()]).mean()\n",
    "\n",
    "    weight_decay = 0.0\n",
    "    for p in model_parameters:\n",
    "        if p.name.endswith('weights'):\n",
    "            weight_decay = weight_decay + 1e-3 * (p ** 2).sum()\n",
    "\n",
    "    cost = nll + weight_decay\n",
    "    \n",
    "    learn_rate = theano.tensor.scalar('learn_rate', dtype = 'float32')\n",
    "    momentum = theano.tensor.scalar('momentum', dtype = 'float32')\n",
    "\n",
    "    # Theano will compute the gradients for us\n",
    "    gradients = theano.grad(cost, model_parameters)\n",
    "\n",
    "    #initialize storage for momentum\n",
    "    velocities = [theano.shared(np.zeros_like(p.get_value()), name='V_%s' %(p.name, )) for p in model_parameters]\n",
    "    \n",
    "    updates = []\n",
    "\n",
    "    for p, g, v in zip(model_parameters, gradients, velocities):\n",
    "        if p.name.endswith(\"weights\"):\n",
    "            g += 1e-3 * p\n",
    "        v_new = momentum * v - learn_rate * g\n",
    "        p_new = p + v_new\n",
    "        updates += [(v, v_new), (p, p_new)]\n",
    "            \n",
    "    def step_ex(X, Y, learn_rate, momentum):\n",
    "        return step(X, Y, learn_rate, momentum)\n",
    "    \n",
    "    def init_parameters():\n",
    "        rng = numpy.random.RandomState(1234)\n",
    "        \n",
    "        for p in model_parameters:\n",
    "            p.set_value(p.tag.initializer.generate(rng, p.get_value().shape))\n",
    "            \n",
    "        for v in velocities:\n",
    "            v.set_value(np.zeros_like(v.get_value()))\n",
    "            \n",
    "    step = theano.function(\n",
    "        [X, Y, learn_rate, momentum],\n",
    "        [cost, error_rate, nll, weight_decay],\n",
    "        updates = updates, \n",
    "        allow_input_downcast = True)\n",
    "            \n",
    "    predict = theano.function([X], predictions)\n",
    "    \n",
    "    init_parameters()\n",
    "    \n",
    "    class Network:\n",
    "        def snapshot(self):\n",
    "            return [p.get_value(borrow = False) for p in self.params]\n",
    "    \n",
    "        def load(self, snapshot):\n",
    "            for p, s in zip(self.params, snapshot):\n",
    "                p.set_value(s, borrow = False)\n",
    "    \n",
    "    network = Network()\n",
    "    network.step = step_ex\n",
    "    network.predict = predict\n",
    "    network.params = model_parameters\n",
    "\n",
    "    return network\n"
   ]
  },
  {
   "cell_type": "code",
   "execution_count": 80,
   "metadata": {
    "collapsed": false,
    "scrolled": false
   },
   "outputs": [],
   "source": [
    "def train(network, learn_rate0, momentum):\n",
    "    batch = 0\n",
    "    epoch = 0\n",
    "\n",
    "    best_valid_error_rate = np.inf\n",
    "    best_params = network.snapshot()\n",
    "    best_params_epoch = 0\n",
    "\n",
    "    train_erros = []\n",
    "    train_loss = []\n",
    "    train_nll = []\n",
    "    validation_errors = []\n",
    "\n",
    "    number_of_epochs = 3\n",
    "    patience_expansion = 1.5\n",
    "\n",
    "    # training loop\n",
    "    try:\n",
    "        start = time.time()\n",
    "        \n",
    "        while epoch < number_of_epochs: #This loop goes over epochs\n",
    "            epoch += 1\n",
    "            #First train on all data from this batch\n",
    "\n",
    "            epoch_start_batch = batch\n",
    "\n",
    "            for X_batch, Y_batch in cifar_train_stream.get_epoch_iterator(): \n",
    "                batch += 1\n",
    "\n",
    "                # learn_rate = learn_rate0 * (1 - np.tanh(batch * 0.549306 / 2000))\n",
    "                \n",
    "                K = 2000\n",
    "                learn_rate = learn_rate0 * K / np.maximum(K, batch)\n",
    "                \n",
    "                L, err_rate, nll, wdec = network.step(X_batch, Y_batch, learn_rate, momentum)\n",
    "\n",
    "                train_loss.append((batch, L))\n",
    "                train_erros.append((batch, err_rate))\n",
    "                train_nll.append((batch, nll))\n",
    "\n",
    "                if batch % 100 == 0:\n",
    "                    end = time.time()\n",
    "                    elapsed = end - start\n",
    "                    start = end\n",
    "                    format = \"At minibatch %d, batch loss %f, batch nll %f, batch error rate %f%%, time %.2fms\"\n",
    "                    print(format % (batch, L, nll, err_rate * 100, elapsed / Y_batch.shape[0] * 1000), flush = True)\n",
    "\n",
    "            # After an epoch compute validation error\n",
    "            val_error_rate = compute_error_rate(cifar_validation_stream, network.predict)\n",
    "            if val_error_rate < best_valid_error_rate:\n",
    "                number_of_epochs = np.maximum(number_of_epochs, epoch * patience_expansion + 1)\n",
    "                best_valid_error_rate = val_error_rate\n",
    "                best_params = network.snapshot()\n",
    "                best_params_epoch = epoch\n",
    "            validation_errors.append((batch, val_error_rate))\n",
    "\n",
    "            print(\"After epoch %d: valid_err_rate: %f%% currently going to do %d epochs\" %(\n",
    "                epoch, val_error_rate * 100, number_of_epochs))\n",
    "            print(\"After epoch %d: averaged train_err_rate: %f%% averaged train nll: %f averaged train loss: %f\" %(\n",
    "                epoch, np.mean(np.asarray(train_erros)[epoch_start_batch:, 1]) * 100, \n",
    "                np.mean(np.asarray(train_nll)[epoch_start_batch:, 1]),\n",
    "                np.mean(np.asarray(train_loss)[epoch_start_batch:, 1])))\n",
    "    except KeyboardInterrupt:\n",
    "        print(\"Setting network parameters from after epoch %d\" %(best_params_epoch))\n",
    "        network.load(best_params)\n",
    "        \n",
    "        subplot(2,1,1)\n",
    "        train_nll_a = np.array(train_nll)\n",
    "        semilogy(train_nll_a[:,0], train_nll_a[:,1], label='batch train nll')\n",
    "        legend()\n",
    "\n",
    "        subplot(2,1,2)\n",
    "        train_erros_a = np.array(train_erros)\n",
    "        plot(train_erros_a[:,0], train_erros_a[:,1], label='batch train error rate')\n",
    "        validation_errors_a = np.array(validation_errors)\n",
    "        plot(validation_errors_a[:,0], validation_errors_a[:,1], label='validation error rate', color='r')\n",
    "        ylim(0,0.2)\n",
    "        legend()\n"
   ]
  },
  {
   "cell_type": "code",
   "execution_count": null,
   "metadata": {
    "collapsed": false,
    "scrolled": false
   },
   "outputs": [
    {
     "name": "stdout",
     "output_type": "stream",
     "text": [
      "Compiling... DONE\n"
     ]
    }
   ],
   "source": [
    "\n",
    "nn = compose(conv2D(3, 32, 5), \n",
    "             relu(), \n",
    "             max_pool_2d(2),\n",
    "             conv2D(32, 10, 3),\n",
    "             relu(),\n",
    "             flatten(),\n",
    "             maxout(1440, 128, 4),\n",
    "             maxout(128, 10, 4),\n",
    "             softmax()\n",
    "            )\n",
    "\n",
    "print(\"Compiling...\", end = \" \", flush = True)\n",
    "network = compile(nn)\n",
    "print(\"DONE\", flush = True)\n",
    "\n",
    "train(network, 4e-3, 0.9)"
   ]
  },
  {
   "cell_type": "code",
   "execution_count": 76,
   "metadata": {
    "collapsed": false
   },
   "outputs": [
    {
     "name": "stdout",
     "output_type": "stream",
     "text": [
      "Test error rate is 27.890000%\n"
     ]
    }
   ],
   "source": [
    "\n",
    "print(\"Test error rate is %f%%\" %(compute_error_rate(cifar_test_stream, network.predict) * 100.0,))\n",
    "\n"
   ]
  },
  {
   "cell_type": "code",
   "execution_count": 77,
   "metadata": {
    "collapsed": false
   },
   "outputs": [
    {
     "data": {
      "image/png": "[encoded data removed]",
      "text/plain": [
       "<matplotlib.figure.Figure at 0x7f6af0ad6278>"
      ]
     },
     "metadata": {},
     "output_type": "display_data"
    }
   ],
   "source": [
    "#How do the filters in the first layer look like?\n",
    "\n",
    "for param in network.params:\n",
    "    if param.name.endswith('weights'):\n",
    "        plot_mat(param.get_value(), cmap='gray')\n",
    "        break"
   ]
  },
  {
   "cell_type": "code",
   "execution_count": 40,
   "metadata": {
    "collapsed": false
   },
   "outputs": [],
   "source": [
    "iii = network.predict.maker.inputs[0]\n",
    "X = iii.variable"
   ]
  },
  {
   "cell_type": "code",
   "execution_count": 41,
   "metadata": {
    "collapsed": false
   },
   "outputs": [
    {
     "ename": "NameError",
     "evalue": "name 'after_C1' is not defined",
     "output_type": "error",
     "traceback": [
      "\u001b[1;31m---------------------------------------------------------------------------\u001b[0m",
      "\u001b[1;31mNameError\u001b[0m                                 Traceback (most recent call last)",
      "\u001b[1;32m<ipython-input-41-664c4f416549>\u001b[0m in \u001b[0;36m<module>\u001b[1;34m()\u001b[0m\n\u001b[0;32m      3\u001b[0m middle_layers_computer = theano.function([X], [\n\u001b[0;32m      4\u001b[0m         \u001b[0mX\u001b[0m\u001b[1;33m,\u001b[0m\u001b[1;33m\u001b[0m\u001b[0m\n\u001b[1;32m----> 5\u001b[1;33m         \u001b[0mafter_C1\u001b[0m\u001b[1;33m,\u001b[0m\u001b[1;33m\u001b[0m\u001b[0m\n\u001b[0m\u001b[0;32m      6\u001b[0m         \u001b[0mafter_P1\u001b[0m\u001b[1;33m,\u001b[0m\u001b[1;33m\u001b[0m\u001b[0m\n\u001b[0;32m      7\u001b[0m         \u001b[0mafter_C2\u001b[0m\u001b[1;33m,\u001b[0m\u001b[1;33m\u001b[0m\u001b[0m\n",
      "\u001b[1;31mNameError\u001b[0m: name 'after_C1' is not defined"
     ]
    }
   ],
   "source": [
    "# build a function that shows how the network processes an image\n",
    "\n",
    "middle_layers_computer = theano.function([X], [\n",
    "        X,\n",
    "        after_C1,\n",
    "        after_P1,\n",
    "        after_C2,\n",
    "        after_P2\n",
    "        ])\n"
   ]
  },
  {
   "cell_type": "code",
   "execution_count": null,
   "metadata": {
    "collapsed": false
   },
   "outputs": [],
   "source": [
    "img_num=4\n",
    "\n",
    "middle_layers = middle_layers_computer(X_test_value[img_num:img_num+1])\n",
    "\n",
    "for ml, name in zip(middle_layers, ['X', 'C1', 'P1', 'C2', 'P2']):\n",
    "    plot_mat(ml.transpose(1,0,2,3), cmap='gray')\n",
    "    title(name)\n",
    "    show()"
   ]
  },
  {
   "cell_type": "code",
   "execution_count": null,
   "metadata": {
    "collapsed": true
   },
   "outputs": [],
   "source": []
  }
 ],
 "metadata": {
  "kernelspec": {
   "display_name": "Python 3",
   "language": "python",
   "name": "python3"
  },
  "language_info": {
   "codemirror_mode": {
    "name": "ipython",
    "version": 3
   },
   "file_extension": ".py",
   "mimetype": "text/x-python",
   "name": "python",
   "nbconvert_exporter": "python",
   "pygments_lexer": "ipython3",
   "version": "3.4.3"
  }
 },
 "nbformat": 4,
 "nbformat_minor": 0
}
